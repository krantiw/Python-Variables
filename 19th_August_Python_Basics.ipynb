{
 "cells": [
  {
   "cell_type": "raw",
   "id": "cb4fdbc9-7c49-4e25-8eb5-12522c44695c",
   "metadata": {},
   "source": [
    "TOPIC: Python Basics Variable"
   ]
  },
  {
   "cell_type": "markdown",
   "id": "a40dbf99-16aa-4520-b04f-1bd579a6e8d3",
   "metadata": {},
   "source": [
    "1. Declare two variables, `x` and `y`, and assign them integer values. \n",
    "Swap the values of these variables without using any temporary variable."
   ]
  },
  {
   "cell_type": "code",
   "execution_count": 1,
   "id": "694932e2-a78d-435e-8ee3-368b22a94d73",
   "metadata": {},
   "outputs": [],
   "source": [
    "x= 5 ; y= 9"
   ]
  },
  {
   "cell_type": "code",
   "execution_count": 2,
   "id": "3381bd78-c6be-4d86-8a5b-8cb495786a89",
   "metadata": {},
   "outputs": [
    {
     "data": {
      "text/plain": [
       "(5, 9)"
      ]
     },
     "execution_count": 2,
     "metadata": {},
     "output_type": "execute_result"
    }
   ],
   "source": [
    "x,y"
   ]
  },
  {
   "cell_type": "code",
   "execution_count": 3,
   "id": "a87b6163-4f0e-43b6-b66c-fd150de8f927",
   "metadata": {},
   "outputs": [],
   "source": [
    "x,y = y,x"
   ]
  },
  {
   "cell_type": "code",
   "execution_count": 4,
   "id": "5144706a-acdf-4a6d-99ee-4594836ce406",
   "metadata": {},
   "outputs": [
    {
     "data": {
      "text/plain": [
       "(9, 5)"
      ]
     },
     "execution_count": 4,
     "metadata": {},
     "output_type": "execute_result"
    }
   ],
   "source": [
    "x,y"
   ]
  },
  {
   "cell_type": "markdown",
   "id": "6a573591-bdbe-43d4-84b6-f2746a9d6648",
   "metadata": {},
   "source": [
    "RESULT1: Hence the values Swapped"
   ]
  },
  {
   "cell_type": "markdown",
   "id": "8457eaaa-44eb-4839-a2ce-634c2fa61f83",
   "metadata": {},
   "source": [
    "2. Create a program that calculates the area of a rectangle. \n",
    "Take the length and width as inputs from the user and store them in variables. \n",
    "Calculate and\n",
    "display the area."
   ]
  },
  {
   "cell_type": "code",
   "execution_count": 5,
   "id": "715acb9e-61d1-44a2-9aab-12ef0ba16514",
   "metadata": {},
   "outputs": [
    {
     "name": "stdin",
     "output_type": "stream",
     "text": [
      " 4.1\n"
     ]
    }
   ],
   "source": [
    "length = float(input())"
   ]
  },
  {
   "cell_type": "code",
   "execution_count": 7,
   "id": "ddbe2b56-8c8b-4e3d-b310-4f1371c6a1c3",
   "metadata": {},
   "outputs": [
    {
     "name": "stdin",
     "output_type": "stream",
     "text": [
      " 2.8\n"
     ]
    }
   ],
   "source": [
    "width = float(input())"
   ]
  },
  {
   "cell_type": "code",
   "execution_count": 8,
   "id": "d623745f-eeb5-44e6-9d7b-eb21e57dca77",
   "metadata": {},
   "outputs": [
    {
     "data": {
      "text/plain": [
       "(4.1, 2.8)"
      ]
     },
     "execution_count": 8,
     "metadata": {},
     "output_type": "execute_result"
    }
   ],
   "source": [
    "length,width"
   ]
  },
  {
   "cell_type": "code",
   "execution_count": 9,
   "id": "08f7c43b-655c-4958-a6f8-621750278ac0",
   "metadata": {},
   "outputs": [],
   "source": [
    "area = length *width"
   ]
  },
  {
   "cell_type": "code",
   "execution_count": 10,
   "id": "dbb5f8b6-6085-48ca-99e8-b472d3829b94",
   "metadata": {},
   "outputs": [
    {
     "data": {
      "text/plain": [
       "11.479999999999999"
      ]
     },
     "execution_count": 10,
     "metadata": {},
     "output_type": "execute_result"
    }
   ],
   "source": [
    "area"
   ]
  },
  {
   "cell_type": "markdown",
   "id": "1b3ff8db-1820-4e05-8d61-a26c995d3c90",
   "metadata": {},
   "source": [
    "RESULT2: The area of Rectangle with lenth and Width of :  4.1, 2.8  respectively is  11.4799999999."
   ]
  },
  {
   "cell_type": "markdown",
   "id": "55cd7104-faeb-42dc-9d23-8daa518638e4",
   "metadata": {},
   "source": [
    "3. Write a Python program that converts temperatures from Celsius to Fahrenheit. \n",
    "Take the temperature in Celsius as input, store it in a variable,\n",
    "convert it to Fahrenheit, and display the result."
   ]
  },
  {
   "cell_type": "markdown",
   "id": "2bf82b55-13b6-4f11-b363-662bdf3149c8",
   "metadata": {},
   "source": [
    "Formula :Temperature in degrees Fahrenheit (°F) = (Temperature in degrees Celsius (°C) * 9/5) + 32"
   ]
  },
  {
   "cell_type": "code",
   "execution_count": 11,
   "id": "1ede3d83-f85e-4151-9acf-cd2987cc9fc7",
   "metadata": {},
   "outputs": [
    {
     "name": "stdin",
     "output_type": "stream",
     "text": [
      " 100\n"
     ]
    }
   ],
   "source": [
    "cel = float(input())"
   ]
  },
  {
   "cell_type": "code",
   "execution_count": 12,
   "id": "e7180301-fbfd-4b4c-ab19-069f0143bed1",
   "metadata": {},
   "outputs": [
    {
     "data": {
      "text/plain": [
       "100.0"
      ]
     },
     "execution_count": 12,
     "metadata": {},
     "output_type": "execute_result"
    }
   ],
   "source": [
    "cel"
   ]
  },
  {
   "cell_type": "code",
   "execution_count": 13,
   "id": "8856a8e8-64dd-4a42-9ca2-2bae02d3946f",
   "metadata": {},
   "outputs": [
    {
     "name": "stdout",
     "output_type": "stream",
     "text": [
      "212.0\n"
     ]
    }
   ],
   "source": [
    "fah = cel*(9/5) +32\n",
    "print(fah)"
   ]
  },
  {
   "cell_type": "markdown",
   "id": "8ce1f06b-9244-4c61-bef7-fb357057d2f1",
   "metadata": {},
   "source": [
    "RESULT3 : 100 celsius = 212  Fahrenheit"
   ]
  },
  {
   "cell_type": "markdown",
   "id": "0677f1e5-c040-4d08-811c-62ad91c2816f",
   "metadata": {},
   "source": [
    "TOPIC: String Based Questions"
   ]
  },
  {
   "cell_type": "markdown",
   "id": "192f4ce3-18b0-4290-a57e-0e3968860123",
   "metadata": {},
   "source": [
    "1. Write a Python program that takes a string as input and prints the length of the string."
   ]
  },
  {
   "cell_type": "code",
   "execution_count": 14,
   "id": "89a7274e-8493-46c5-9150-02d477e019aa",
   "metadata": {},
   "outputs": [
    {
     "name": "stdin",
     "output_type": "stream",
     "text": [
      " Is Python a hard language to learn?.\n"
     ]
    }
   ],
   "source": [
    "s = str(input())"
   ]
  },
  {
   "cell_type": "code",
   "execution_count": 15,
   "id": "b8635c4b-685f-423b-b18c-70c9b5537399",
   "metadata": {},
   "outputs": [
    {
     "data": {
      "text/plain": [
       "'Is Python a hard language to learn?.'"
      ]
     },
     "execution_count": 15,
     "metadata": {},
     "output_type": "execute_result"
    }
   ],
   "source": [
    "s"
   ]
  },
  {
   "cell_type": "code",
   "execution_count": 16,
   "id": "2489d7f0-170b-4ce5-959c-9feccbffcd9b",
   "metadata": {},
   "outputs": [
    {
     "data": {
      "text/plain": [
       "36"
      ]
     },
     "execution_count": 16,
     "metadata": {},
     "output_type": "execute_result"
    }
   ],
   "source": [
    "len(s)"
   ]
  },
  {
   "cell_type": "markdown",
   "id": "5ca7b9e6-134f-4fd1-afca-5b7c0efc8038",
   "metadata": {},
   "source": [
    "2. Create a program that takes a sentence from the user and counts the number of vowels (a, e, i, o, u) in the string."
   ]
  },
  {
   "cell_type": "code",
   "execution_count": 17,
   "id": "7e9db1bf-4afb-4bb9-b070-d7ea69388e01",
   "metadata": {},
   "outputs": [
    {
     "name": "stdin",
     "output_type": "stream",
     "text": [
      " Everybody is happy\n"
     ]
    }
   ],
   "source": [
    "inputs = str(input())"
   ]
  },
  {
   "cell_type": "code",
   "execution_count": 18,
   "id": "30d9eb88-1456-4078-88fe-840ddecad139",
   "metadata": {},
   "outputs": [
    {
     "data": {
      "text/plain": [
       "{'A', 'E', 'I', 'O', 'U', 'a', 'e', 'i', 'o', 'u'}"
      ]
     },
     "execution_count": 18,
     "metadata": {},
     "output_type": "execute_result"
    }
   ],
   "source": [
    "vowels = set(\"aeiouAEIOU\")\n",
    "count =0\n",
    "vowels          "
   ]
  },
  {
   "cell_type": "code",
   "execution_count": 19,
   "id": "93e2a20f-be30-4d85-a4dd-95bd5ef66918",
   "metadata": {},
   "outputs": [
    {
     "name": "stdout",
     "output_type": "stream",
     "text": [
      "1\n",
      "2\n",
      "3\n",
      "4\n",
      "5\n"
     ]
    }
   ],
   "source": [
    "for s in inputs:\n",
    "    if s in vowels:\n",
    "        count = count + 1\n",
    "        print(count)"
   ]
  },
  {
   "cell_type": "markdown",
   "id": "f765db64-3eb3-4d29-a504-3286fd0d21ae",
   "metadata": {},
   "source": [
    "RESULT: Using For and If Function : The number of vowels is counted."
   ]
  },
  {
   "cell_type": "markdown",
   "id": "edfa9372-6cfd-4382-a104-b25500399a5f",
   "metadata": {},
   "source": [
    "3. Given a string, reverse the order of characters using string slicing and print the reversed string."
   ]
  },
  {
   "cell_type": "code",
   "execution_count": 20,
   "id": "08f5727b-0c06-47d9-8b2e-473658b5729b",
   "metadata": {},
   "outputs": [],
   "source": [
    "rev = \"hieveryone\""
   ]
  },
  {
   "cell_type": "code",
   "execution_count": 21,
   "id": "0a10d1a9-d331-4411-b57d-654bc3bbdfb6",
   "metadata": {},
   "outputs": [
    {
     "data": {
      "text/plain": [
       "'hieveryone'"
      ]
     },
     "execution_count": 21,
     "metadata": {},
     "output_type": "execute_result"
    }
   ],
   "source": [
    "rev"
   ]
  },
  {
   "cell_type": "code",
   "execution_count": 22,
   "id": "9d7adf66-6c9f-4d6e-89a2-4c62be4302aa",
   "metadata": {},
   "outputs": [
    {
     "data": {
      "text/plain": [
       "'enoyreveih'"
      ]
     },
     "execution_count": 22,
     "metadata": {},
     "output_type": "execute_result"
    }
   ],
   "source": [
    "rev[::-1]"
   ]
  },
  {
   "cell_type": "markdown",
   "id": "11950d97-dbb7-4a6f-9c9c-0a20b2662aa2",
   "metadata": {},
   "source": [
    "RESULT : Hence Input String has been reversed"
   ]
  },
  {
   "cell_type": "markdown",
   "id": "933f612f-997b-4833-8af2-67606c2873df",
   "metadata": {},
   "source": [
    "4. Write a program that takes a string as input and checks if it is a palindrome\n",
    "(reads the same forwards and backwards)."
   ]
  },
  {
   "cell_type": "code",
   "execution_count": 23,
   "id": "d5794fed-19ac-4446-9985-2e1f9bf6bdef",
   "metadata": {},
   "outputs": [
    {
     "name": "stdin",
     "output_type": "stream",
     "text": [
      " level\n"
     ]
    }
   ],
   "source": [
    "front = str(input())"
   ]
  },
  {
   "cell_type": "code",
   "execution_count": 24,
   "id": "fd8477b1-eb59-4536-b0f4-e6e9befbcb26",
   "metadata": {},
   "outputs": [
    {
     "data": {
      "text/plain": [
       "'level'"
      ]
     },
     "execution_count": 24,
     "metadata": {},
     "output_type": "execute_result"
    }
   ],
   "source": [
    "back = front[::-1]\n",
    "back"
   ]
  },
  {
   "cell_type": "code",
   "execution_count": 25,
   "id": "4f1aa2a6-9a52-4616-92d0-0b93ec5d60c6",
   "metadata": {},
   "outputs": [
    {
     "name": "stdout",
     "output_type": "stream",
     "text": [
      "Palindrome\n"
     ]
    }
   ],
   "source": [
    "if front == back:\n",
    "    print(\"Palindrome\")\n",
    "else:\n",
    "    print(\"OOPS no palindrome\")"
   ]
  },
  {
   "cell_type": "markdown",
   "id": "ac24dcbf-bed8-4aba-bd3f-be910d311853",
   "metadata": {},
   "source": [
    "RESULT: level is a Palindrome"
   ]
  },
  {
   "cell_type": "code",
   "execution_count": 26,
   "id": "cc06fa4a-c9f5-4094-8295-5d4330ae8e0d",
   "metadata": {},
   "outputs": [
    {
     "name": "stdin",
     "output_type": "stream",
     "text": [
      " goat\n"
     ]
    }
   ],
   "source": [
    "a = str(input())"
   ]
  },
  {
   "cell_type": "code",
   "execution_count": 27,
   "id": "88da1576-0d29-44b7-abbf-15bba66cba9a",
   "metadata": {},
   "outputs": [
    {
     "data": {
      "text/plain": [
       "'taog'"
      ]
     },
     "execution_count": 27,
     "metadata": {},
     "output_type": "execute_result"
    }
   ],
   "source": [
    "b = a[::-1]\n",
    "b"
   ]
  },
  {
   "cell_type": "code",
   "execution_count": 28,
   "id": "33a17679-3066-4e28-a334-e93f8d1de5ba",
   "metadata": {},
   "outputs": [
    {
     "name": "stdout",
     "output_type": "stream",
     "text": [
      "NO, It isnt Palindrome\n"
     ]
    }
   ],
   "source": [
    "if b ==a:\n",
    "    print(\"Yes it is Palindrome\")\n",
    "else:\n",
    "    print(\"NO, It isnt Palindrome\")"
   ]
  },
  {
   "cell_type": "markdown",
   "id": "79dbe0ef-92a4-4bee-9fce-3971e09fba5c",
   "metadata": {},
   "source": [
    "RESULT: goat isnt a Palindrome"
   ]
  },
  {
   "cell_type": "markdown",
   "id": "8b5e579b-f17a-4fb7-be55-aef63231cf15",
   "metadata": {},
   "source": [
    "5. Create a program that takes a string as input and removes all the spaces from it. Print the modified string without spaces."
   ]
  },
  {
   "cell_type": "markdown",
   "id": "7be185a4-ada8-41ce-b5ba-4d4a618646f7",
   "metadata": {},
   "source": [
    "Using a Funtion"
   ]
  },
  {
   "cell_type": "code",
   "execution_count": 32,
   "id": "c490f2c9-0698-468a-bcdc-937b48dec64a",
   "metadata": {},
   "outputs": [],
   "source": [
    "def rem_space(hello):\n",
    "    return hello.replace(\" \",\"\")\n",
    "    "
   ]
  },
  {
   "cell_type": "code",
   "execution_count": 33,
   "id": "6362e9f0-cfca-48ed-9026-1a1569f16116",
   "metadata": {},
   "outputs": [
    {
     "name": "stdin",
     "output_type": "stream",
     "text": [
      " h o w is your P Y T HON cla ss es go ing  ?\n"
     ]
    }
   ],
   "source": [
    "hello = str(input())"
   ]
  },
  {
   "cell_type": "code",
   "execution_count": 34,
   "id": "04bfb44b-c422-42e3-83d1-ac0fff57962c",
   "metadata": {},
   "outputs": [
    {
     "name": "stdout",
     "output_type": "stream",
     "text": [
      "howisyourPYTHONclassesgoing?\n"
     ]
    }
   ],
   "source": [
    "print(rem_space(hello))"
   ]
  },
  {
   "cell_type": "markdown",
   "id": "3d3e8399-c147-48e0-b86b-f068ae843971",
   "metadata": {},
   "source": [
    "Using Replace"
   ]
  },
  {
   "cell_type": "code",
   "execution_count": 35,
   "id": "6f56a4c8-6e09-42e0-a66f-5d6d676fe943",
   "metadata": {},
   "outputs": [
    {
     "name": "stdin",
     "output_type": "stream",
     "text": [
      " be st of lu ck !! !! :)\n"
     ]
    }
   ],
   "source": [
    "y = str(input())"
   ]
  },
  {
   "cell_type": "code",
   "execution_count": 36,
   "id": "cdf8221e-e2b8-4549-9cac-be88af7b10a4",
   "metadata": {},
   "outputs": [
    {
     "data": {
      "text/plain": [
       "'bestofluck!!!!:)'"
      ]
     },
     "execution_count": 36,
     "metadata": {},
     "output_type": "execute_result"
    }
   ],
   "source": [
    "w = y.replace(\" \",\"\")\n",
    "w"
   ]
  },
  {
   "cell_type": "code",
   "execution_count": null,
   "id": "57d36544-697e-4538-9b7c-78a42f365786",
   "metadata": {},
   "outputs": [],
   "source": []
  }
 ],
 "metadata": {
  "kernelspec": {
   "display_name": "Python 3 (ipykernel)",
   "language": "python",
   "name": "python3"
  },
  "language_info": {
   "codemirror_mode": {
    "name": "ipython",
    "version": 3
   },
   "file_extension": ".py",
   "mimetype": "text/x-python",
   "name": "python",
   "nbconvert_exporter": "python",
   "pygments_lexer": "ipython3",
   "version": "3.10.8"
  }
 },
 "nbformat": 4,
 "nbformat_minor": 5
}
